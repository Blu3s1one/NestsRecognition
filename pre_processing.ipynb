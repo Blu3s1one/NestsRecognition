{
 "cells": [
  {
   "cell_type": "markdown",
   "id": "74a3fb1b",
   "metadata": {},
   "source": [
    "## Pre Processing\n",
    "### Transformation des images jpg de grande taille en images de 1024x1024 px\n",
    "Cette transformation prend en entrée les images de grande taille et leurs annotations. En sortie on trouve les images 1024x1024 et leurs annotations correspondantes dans un fichier json du même nom."
   ]
  },
  {
   "cell_type": "code",
   "execution_count": 1,
   "id": "1a3389cc",
   "metadata": {},
   "outputs": [],
   "source": [
    "#Importations et définitions\n",
    "from scripts.balayage import *\n",
    "from scripts.utils import get_filenames_of_path, collate_single, save_json, read_json\n",
    "from skimage.io import imread\n",
    "import numpy as np\n",
    "from typing import List, Callable\n",
    "import pathlib\n",
    "import json\n",
    "import albumentations as A\n",
    "from copy import deepcopy\n",
    "from PIL import Image\n",
    "\n",
    "def read_images(inp, tar):\n",
    "        return imread(inp), read_json(tar)"
   ]
  },
  {
   "cell_type": "code",
   "execution_count": 3,
   "id": "12f802e0",
   "metadata": {},
   "outputs": [],
   "source": [
    "#Récupération des images\n",
    "dir_img = pathlib.Path('Preprocessing/Input')\n",
    "dir_tar = pathlib.Path('Preprocessing/Target')\n",
    "images = get_filenames_of_path(dir_img)\n",
    "targets = get_filenames_of_path(dir_tar)"
   ]
  },
  {
   "cell_type": "code",
   "execution_count": null,
   "id": "d4bf878b",
   "metadata": {},
   "outputs": [],
   "source": [
    "#Préprocessing\n",
    "idx=0\n",
    "for k in range(len(images)):\n",
    "    x,y = read_images(images[k],targets[k])\n",
    "    x=np.array(x)\n",
    "    dic = balayage_inference_double(x,y,(1024,1024), 512)\n",
    "    print(dic)\n",
    "    for key, value in dic.items():\n",
    "        if len(value[1]['boxes']) > 0 :\n",
    "            new_name = str(idx).zfill(3)\n",
    "            idx+=1\n",
    "            pred_list = {key: value.tolist() for key, value in value[1].items()}\n",
    "            save_json(pred_list, path=pathlib.Path('Preprocessing/Output/target/'+ new_name + '.json'))\n",
    "            img = Image.fromarray(value[0], 'RGB')\n",
    "            img.save('Preprocessing/Output/input/'+ new_name + '.jpg')         "
   ]
  }
 ],
 "metadata": {
  "kernelspec": {
   "display_name": "Python 3 (ipykernel)",
   "language": "python",
   "name": "python3"
  },
  "language_info": {
   "codemirror_mode": {
    "name": "ipython",
    "version": 3
   },
   "file_extension": ".py",
   "mimetype": "text/x-python",
   "name": "python",
   "nbconvert_exporter": "python",
   "pygments_lexer": "ipython3",
   "version": "3.8.12"
  }
 },
 "nbformat": 4,
 "nbformat_minor": 5
}
