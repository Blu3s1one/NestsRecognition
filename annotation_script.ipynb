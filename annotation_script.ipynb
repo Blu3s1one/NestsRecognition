{
 "cells": [
  {
   "cell_type": "markdown",
   "id": "e9555fa0-513b-450e-bd60-c0c2675d85cb",
   "metadata": {},
   "source": [
    "# Annotations"
   ]
  },
  {
   "cell_type": "code",
   "execution_count": 1,
   "id": "2323eb72-c022-48ed-b5de-4e335129130f",
   "metadata": {},
   "outputs": [],
   "source": [
    "import os\n",
    "import pathlib\n",
    "\n",
    "from scripts.utils import get_filenames_of_path\n",
    "from scripts.visual import Annotator\n",
    "\n",
    "directory = pathlib.Path('Annotation/Input')\n",
    "image_files = get_filenames_of_path(directory)\n",
    "\n",
    "annotator = Annotator(image_ids=image_files)\n",
    "annotator.napari()"
   ]
  },
  {
   "cell_type": "markdown",
   "id": "e26ca027-b58e-4896-8da6-d0f1cc2f5254",
   "metadata": {},
   "source": [
    "## Ajouter des classes\n",
    "### Remplacer la valeur prise par label par ce qui vous intéresse"
   ]
  },
  {
   "cell_type": "code",
   "execution_count": null,
   "id": "5a3e394e-d49e-45b6-b854-acb8b908a26c",
   "metadata": {},
   "outputs": [],
   "source": [
    "annotator.add_class(label='bird', color='red') # bird"
   ]
  },
  {
   "cell_type": "code",
   "execution_count": 2,
   "id": "39fcd95f-60f9-4494-aa9b-5a18e1152f42",
   "metadata": {},
   "outputs": [],
   "source": [
    "annotator.add_class(label='nest', color='blue') # nest"
   ]
  },
  {
   "cell_type": "code",
   "execution_count": null,
   "id": "8853c53e",
   "metadata": {},
   "outputs": [],
   "source": [
    "annotator.add_class(label='GM', color='blue') # Goeland marin"
   ]
  },
  {
   "cell_type": "code",
   "execution_count": null,
   "id": "d3ff9dee",
   "metadata": {},
   "outputs": [],
   "source": [
    "annotator.add_class(label='GB', color='blue') # Goeland brun"
   ]
  },
  {
   "cell_type": "code",
   "execution_count": null,
   "id": "7ec226d2",
   "metadata": {},
   "outputs": [],
   "source": [
    "annotator.add_class(label='GA', color='blue') # Goeland argenté"
   ]
  },
  {
   "cell_type": "markdown",
   "id": "93616eb9-d9fd-44e6-857d-6a85acc47a9f",
   "metadata": {},
   "source": [
    "## Sauvegarder les annotations de l'image actuellement affichée"
   ]
  },
  {
   "cell_type": "code",
   "execution_count": 4,
   "id": "5a86ca25-f157-4a5b-b95b-8c4aed0c90ae",
   "metadata": {},
   "outputs": [
    {
     "name": "stdout",
     "output_type": "stream",
     "text": [
      "Annotation 000.json saved to Annotation/Target\n"
     ]
    }
   ],
   "source": [
    "save_dir = pathlib.Path('Annotation/Target')\n",
    "save_dir.mkdir(parents=True, exist_ok=True)\n",
    "annotator.export(save_dir)"
   ]
  },
  {
   "cell_type": "markdown",
   "id": "870fb05a-03d4-4ebb-8bf4-c4c5e0109221",
   "metadata": {},
   "source": [
    "## Sauvegarder toutes les annotations faites d'un coup"
   ]
  },
  {
   "cell_type": "code",
   "execution_count": null,
   "id": "286f7083-6715-4ebc-80ac-aa515dd09bd2",
   "metadata": {
    "scrolled": true
   },
   "outputs": [],
   "source": [
    "save_dir = pathlib.Path('Annotation/Target')\n",
    "save_dir.mkdir(parents=True, exist_ok=True)\n",
    "annotator.export_all(pathlib.Path(save_dir))"
   ]
  },
  {
   "cell_type": "markdown",
   "id": "368c5464",
   "metadata": {},
   "source": [
    "### Ne pas quitter Napari sans avoir sauvegarder les annotations"
   ]
  }
 ],
 "metadata": {
  "kernelspec": {
   "display_name": "Python 3 (ipykernel)",
   "language": "python",
   "name": "python3"
  },
  "language_info": {
   "codemirror_mode": {
    "name": "ipython",
    "version": 3
   },
   "file_extension": ".py",
   "mimetype": "text/x-python",
   "name": "python",
   "nbconvert_exporter": "python",
   "pygments_lexer": "ipython3",
   "version": "3.8.12"
  }
 },
 "nbformat": 4,
 "nbformat_minor": 5
}
