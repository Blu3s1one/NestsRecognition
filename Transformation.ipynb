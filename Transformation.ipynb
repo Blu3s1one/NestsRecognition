{
 "cells": [
  {
   "cell_type": "markdown",
   "id": "d2e1ccc4",
   "metadata": {},
   "source": [
    "## Transformation TIF vers JPG et géolocalisation vers pixel"
   ]
  },
  {
   "cell_type": "code",
   "execution_count": null,
   "id": "cee9ba1e",
   "metadata": {},
   "outputs": [],
   "source": [
    "from osgeo import gdal\n",
    "from skimage.io import imread\n",
    "from PIL import Image\n",
    "import PIL\n",
    "from pathlib import Path\n",
    "import pathlib\n",
    "import json\n",
    "\n",
    "PIL.Image.MAX_IMAGE_PIXELS = 500000000\n",
    "\n",
    "def get_filenames_of_path(path: pathlib.Path, ext: str = \"*\"):\n",
    "    \"\"\"\n",
    "    Returns a list of files in a directory/path. Uses pathlib.\n",
    "    \"\"\"\n",
    "    filenames = [file for file in path.glob(ext) if file.is_file()]\n",
    "    assert len(filenames) > 0, f\"No files found in path: {path}\"\n",
    "    return filenames\n",
    "\n",
    "def world2Pixel(geoMatrix, x , y):\n",
    "    u1X = geoMatrix[0]\n",
    "    print(u1X)\n",
    "    u1Y = geoMatrix[3]\n",
    "    print(u1Y)\n",
    "    xDist = geoMatrix[1]\n",
    "    print(xDist)\n",
    "    yDist = geoMatrix[5]\n",
    "    print(yDist)\n",
    "    rtnX = geoMatrix[2]\n",
    "    rtnY = geoMatrix[4]\n",
    "    pixel = int((x - u1X) / xDist)\n",
    "    line = int((y - u1Y) /yDist)\n",
    "    return (pixel, line)\n",
    "\n",
    "def Pixel2world(geoMatrix, x, y):\n",
    "    ulX = geoMatrix[0]\n",
    "    ulY = geoMatrix[3]\n",
    "    xDist = geoMatrix[1]\n",
    "    yDist = geoMatrix[5]\n",
    "    coorX = (ulX + (x * xDist))\n",
    "    coorY = (ulY + (y * yDist))\n",
    "    return (coorX, coorY)\n"
   ]
  },
  {
   "cell_type": "code",
   "execution_count": null,
   "id": "6adf5acd",
   "metadata": {},
   "outputs": [],
   "source": [
    "#Ouverture des images TIF et sauvegarde au format jpeg\n",
    "directory=pathlib.Path('tifs')\n",
    "images = get_filenames_of_path(directory)\n",
    "for path in images:\n",
    "    im = Image.open(path)\n",
    "    rgb_im = im.convert('RGB')\n",
    "    rgb_im.save('images/'+path.stem +'.jpg')"
   ]
  }
 ],
 "metadata": {
  "kernelspec": {
   "display_name": "Python 3 (ipykernel)",
   "language": "python",
   "name": "python3"
  },
  "language_info": {
   "codemirror_mode": {
    "name": "ipython",
    "version": 3
   },
   "file_extension": ".py",
   "mimetype": "text/x-python",
   "name": "python",
   "nbconvert_exporter": "python",
   "pygments_lexer": "ipython3",
   "version": "3.8.12"
  }
 },
 "nbformat": 4,
 "nbformat_minor": 5
}
